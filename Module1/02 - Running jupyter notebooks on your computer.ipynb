{
 "cells": [
  {
   "cell_type": "markdown",
   "metadata": {},
   "source": [
    "### In this notebook\n",
    "\n",
    "- Downloading this notebook\n",
    "- Installing the *jupyter* package inside your brand new `conda` environment (*testenv*).\n",
    "- Starting the *jupyter* notebook server on your computer\n",
    "- Running a piece of code inside this notebook on your computer"
   ]
  },
  {
   "cell_type": "markdown",
   "metadata": {},
   "source": [
    "### 1. Downloading this notebook\n",
    "\n",
    "How are you currently looking at this notebook?\n",
    "\n",
    "- On the [nbviewer](http://nbviewer.org/) website (http://nbviewer.org/)?\n",
    "\n",
    "  In that case, there's a download button on the top right of the screen. Use that button to download the notebook to your computer, saving it in a directory of your choice (it should be a directory that you know how to navigate to using the command line).\n",
    "\n",
    "\n",
    "- On [GitHub](https://github.com)?\n",
    "  \n",
    "  In that case, right-click on the \"Raw\" button in the top right corner of the notebook, and select \"Save link as...\" (or something similar). You can then save the notebook in a directory of your choice (see above).\n",
    "\n",
    "\n",
    "- Locally on your computer ([http://localhost:...](http://localhost))?\n",
    "  \n",
    "  Then you obviously already downloaded the file, and you're already running the jupyter notebook server. However, make sure the server you're running was started in the same Python/conda environment that you're going to use for the rest of the workshop. If not, follow the instructions below."
   ]
  },
  {
   "cell_type": "markdown",
   "metadata": {},
   "source": [
    "### 2. Installing *jupyter* inside your `conda` environment\n",
    "\n",
    "In the previous notebook, you've learned how to install `conda`, and how to create your first `conda` environment, called *testenv*. We'll now activate this environment and install the *jupyter* package inside of it using `pip`, the Python package manager. To activate the environment, run:\n",
    "\n",
    "`source activate testenv` (on Linux or Mac)\n",
    "\n",
    "`activate testenv` (on Windows)\n",
    "\n",
    "You should now see \"(testenv)\" in front of your command line prompt. We can then go ahead and install *jupyter* inside the environment with `pip`:\n",
    "\n",
    "`pip install jupyter`"
   ]
  },
  {
   "cell_type": "markdown",
   "metadata": {},
   "source": [
    "### 3. Starting the jupyter notebook server\n",
    "\n",
    "\n",
    "Make sure the *testenv* environment is still activate in your command shell. Then navigate to the directory where you downloaded this notebook (in Step 1).\n",
    "\n",
    "If everything went well in Step 3, you can now start the jupyter notebook server, by simply typing:\n",
    "\n",
    "`jupyter notebook`\n",
    "\n",
    "This should open up your browser at `https://localhost:8888`, and show you the files in the directory where you downloaded this notebook. Click on the notebook to run it on your own notebook server!"
   ]
  },
  {
   "cell_type": "markdown",
   "metadata": {},
   "source": [
    "### 4. Run \"Hello world!\" inside the notebook!\n",
    "\n",
    "Select the *cell* below (i.e., the gray shaded area), and hit Ctrl+Enter to execute the print statement!"
   ]
  },
  {
   "cell_type": "code",
   "execution_count": null,
   "metadata": {
    "collapsed": false
   },
   "outputs": [],
   "source": [
    "print('Hello world!')"
   ]
  },
  {
   "cell_type": "markdown",
   "metadata": {},
   "source": [
    "If everything works, you should see the output \"Hello world!\" below the cell!"
   ]
  },
  {
   "cell_type": "markdown",
   "metadata": {},
   "source": [
    "### Congratulations\n",
    "\n",
    "You've just gotten the Jupyter notebook server to run on your computer! Jupyter notebooks provide an awesome environment for doing analyses and keeping a track record of your work."
   ]
  }
 ],
 "metadata": {
  "kernelspec": {
   "display_name": "Python 3",
   "language": "python",
   "name": "python3"
  },
  "language_info": {
   "codemirror_mode": {
    "name": "ipython",
    "version": 3
   },
   "file_extension": ".py",
   "mimetype": "text/x-python",
   "name": "python",
   "nbconvert_exporter": "python",
   "pygments_lexer": "ipython3",
   "version": "3.5.2"
  }
 },
 "nbformat": 4,
 "nbformat_minor": 1
}
