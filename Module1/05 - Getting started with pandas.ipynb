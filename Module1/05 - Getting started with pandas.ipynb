{
 "cells": [
  {
   "cell_type": "markdown",
   "metadata": {},
   "source": [
    "### In this notebook\n",
    "\n",
    "- Reading some expression data into a *pandas* `DataFrame`.\n",
    "- Looking up expression data for a specific gene or sample, resulting in a *pandas* `Series`.\n",
    "- Doing some slicing to select a specific range of samples.\n",
    "- Selecting all genes that start with \"A\" (because why not?)\n",
    "- Merging two dataframes\n",
    "- Additional resources"
   ]
  },
  {
   "cell_type": "markdown",
   "metadata": {},
   "source": [
    "### Introduction\n",
    "\n",
    "*pandas* is a very powerful package that provides a lot of functions for working with *labeled data* (think spreadsheets). It provides two key data structures that we will come across quite a lot in the workshop:\n",
    "\n",
    "1. `pandas.DataFrame`: A `DataFrame` represents tabular data, i.e. data you could also store in an Excel spreadsheet. Each `DataFrame` has row labels (accessible using the `DataFrame.index` attribute), and column labels (accessible using the `DataFrame.columns`) attribute, in addition to the data itself (accessible using the `DataFrame.data` attribute).\n",
    "\n",
    "2. `pandas.Series`: A `Series` represents data in the form of a vector (i.e., an ordered list of elements), where each element has a label. For example, a `Series` is what you get when you select a single column from a `DataFrame`. Consequently, a `Series` also contains \"row labels\", accessible through the `Series.index` attribute. We can use use a `Series` to store the expression profile of a single sample.\n",
    "\n",
    "*pandas* stores the data itself (without the labels) in matrix form, using *NumPy* arrays. It's fine if you ignore this piece of information for now."
   ]
  },
  {
   "cell_type": "markdown",
   "metadata": {
    "collapsed": true
   },
   "source": [
    "### 1. Reading expression data from a tab-delimited text file\n",
    "\n",
    "We start by reading expression data from a tab-delimited text file. All the expression data we're using in the workshop examples are in the following format:\n",
    "\n",
    "```\n",
    "Genes    SampleA   SampleB   SampleB   ...\n",
    "GeneA    2.51521   3.51411   4.12512   ...\n",
    "GeneB    7.32312   1.51262   3.12512   ...\n",
    "GeneC    4.21256   4.12632   3.16212   ...\n",
    "...      ...       ...       ...       ...\n",
    "```\n",
    "\n",
    "Before I started using `pandas`, reading a data file like this was a rather tedious and repetitive exercise. But with *pandas* we're in a much better place, because we can essentially do this one line:"
   ]
  },
  {
   "cell_type": "code",
   "execution_count": 22,
   "metadata": {
    "collapsed": false
   },
   "outputs": [
    {
     "name": "stdout",
     "output_type": "stream",
     "text": [
      "Path to expression file: ../data/brca_expression_5yr_dead.tsv\n",
      "Matrix shape: (19785, 30)\n",
      "Genes: ['A1BG', 'A1CF', 'A2M', 'A2ML1', 'A3GALT2']\n",
      "Samples: ['TCGA-BH-A1EV-01A', 'TCGA-B6-A0WW-01A', 'TCGA-LL-A73Z-01A', 'TCGA-BH-A18J-01A', 'TCGA-A2-A04P-01A']\n"
     ]
    }
   ],
   "source": [
    "import os\n",
    "import pandas as pd  # renaming \"pandas\" to \"pd\" is a convention\n",
    "\n",
    "# this is some of the example data for this workshop\n",
    "# we're using os.path.join() so that the resulting path is correctly formatted on both Windows and Linux/Mac\n",
    "expression_file = os.path.join('..', 'data', 'brca_expression_5yr_dead.tsv')\n",
    "print('Path to expression file:', expression_file)\n",
    "\n",
    "df = pd.read_csv(expression_file, sep='\\t', header=0, index_col=0)\n",
    "# another convention is to call the variable that holds your main DataFrame object \"df\"\n",
    "\n",
    "print('Matrix shape:', df.shape)  # prints (x,y), where x is the number of rows, and y the number of columns\n",
    "print('Genes:', df.index.tolist()[:5])  # prints the first five genes (rows) as a list\n",
    "print('Samples:', df.columns.tolist()[:5])  # prints the first five samples (columns) as a list"
   ]
  },
  {
   "cell_type": "markdown",
   "metadata": {},
   "source": [
    "### 2. Looking up expression data for a particular sample or gene\n",
    "\n",
    "One of the key strengths of the *pandas* `DataFrame` (and one of the first things to learn), is the different ways in which you can access exactly the data you need. We'll start by selecting the expression profile of a specific sample."
   ]
  },
  {
   "cell_type": "code",
   "execution_count": 3,
   "metadata": {
    "collapsed": false
   },
   "outputs": [
    {
     "name": "stdout",
     "output_type": "stream",
     "text": [
      "Genes\n",
      "A1BG    2.32193\n",
      "A1CF    2.32193\n",
      "A2M     8.07841\n",
      "Name: TCGA-B6-A0WW-01A, dtype: float64\n"
     ]
    }
   ],
   "source": [
    "sample = 'TCGA-B6-A0WW-01A'\n",
    "profile = df[sample]  # and we're done\n",
    "\n",
    "print(profile[:3])  # prints the expression of the first three genes"
   ]
  },
  {
   "cell_type": "markdown",
   "metadata": {},
   "source": [
    "What's the type of `profile`? Let's check:"
   ]
  },
  {
   "cell_type": "code",
   "execution_count": 4,
   "metadata": {
    "collapsed": false
   },
   "outputs": [
    {
     "name": "stdout",
     "output_type": "stream",
     "text": [
      "<class 'pandas.core.series.Series'>\n"
     ]
    }
   ],
   "source": [
    "print(type(profile))"
   ]
  },
  {
   "cell_type": "markdown",
   "metadata": {},
   "source": [
    "It's a `pandas.Series` object. The `index` of the series corresponds to the genes. Note also that the series automatically got a `name` corresponding to the sample label. Note also that above we've used the basic slicing syntax \"[:3]\" to print the first three elements of the series. This is the same syntax used to select ranges of elements in simple Python lists!\n",
    "\n",
    "Now we're going to access expression values of a single gene, across all samples:"
   ]
  },
  {
   "cell_type": "code",
   "execution_count": 5,
   "metadata": {
    "collapsed": false
   },
   "outputs": [
    {
     "name": "stdout",
     "output_type": "stream",
     "text": [
      "TCGA-BH-A1EV-01A    7.66424\n",
      "TCGA-B6-A0WW-01A    8.07841\n",
      "TCGA-LL-A73Z-01A    9.37704\n",
      "Name: A2M, dtype: float64\n",
      "\n",
      "Type: <class 'pandas.core.series.Series'>\n"
     ]
    }
   ],
   "source": [
    "gene = 'A2M'\n",
    "gene_expression = df.loc[gene]  # done!\n",
    "\n",
    "print(gene_expression[:3])\n",
    "print()\n",
    "print('Type:', type(gene_expression))"
   ]
  },
  {
   "cell_type": "markdown",
   "metadata": {},
   "source": [
    "Note that the result is again a `Series` object, but this time its index consists of sample labels, and the series `name` corresponds to the gene we selected.\n",
    "\n"
   ]
  },
  {
   "cell_type": "markdown",
   "metadata": {},
   "source": [
    "Finally, just know that the .loc indexing method also allows you to select samples, like this:"
   ]
  },
  {
   "cell_type": "code",
   "execution_count": 6,
   "metadata": {
    "collapsed": false
   },
   "outputs": [
    {
     "name": "stdout",
     "output_type": "stream",
     "text": [
      "True\n"
     ]
    }
   ],
   "source": [
    "sample = 'TCGA-B6-A0WW-01A'\n",
    "profile2 = df.loc[:, sample]\n",
    "\n",
    "# check to see if we're selecting the same thing as with the \"df[sample]\" syntax\n",
    "print(profile.equals(profile2))  # True"
   ]
  },
  {
   "cell_type": "markdown",
   "metadata": {},
   "source": [
    "The `[:, sample]` syntax is the same as the one used for NumPy arrays, but pandas allows you to use strings to refer to a specific row or column by their label."
   ]
  },
  {
   "cell_type": "markdown",
   "metadata": {
    "collapsed": true
   },
   "source": [
    "### 3. Slicing to select a specific range of samples\n",
    "\n",
    "Remember that we have 30 samples in our dataset. Let's say we only want to select the data for the first 10 of them. How would we do that? In addition to `.loc`, there's the `.iloc` operator that allows you to refer to rows and columns by their indices, and select specific ranges (aka. slicing):"
   ]
  },
  {
   "cell_type": "code",
   "execution_count": 7,
   "metadata": {
    "collapsed": false
   },
   "outputs": [
    {
     "name": "stdout",
     "output_type": "stream",
     "text": [
      "(19785, 10)\n"
     ]
    }
   ],
   "source": [
    "first_samples = df.iloc[:, :10]  # the first 10 samples\n",
    "\n",
    "print(first_samples.shape)"
   ]
  },
  {
   "cell_type": "markdown",
   "metadata": {},
   "source": [
    "Again, all the slicing rules from NumPy apply. For example:"
   ]
  },
  {
   "cell_type": "code",
   "execution_count": 8,
   "metadata": {
    "collapsed": false
   },
   "outputs": [
    {
     "name": "stdout",
     "output_type": "stream",
     "text": [
      "(19785, 10)\n"
     ]
    }
   ],
   "source": [
    "last_samples = df.iloc[:, -10:]  # the last 10 samples\n",
    "\n",
    "print(last_samples.shape)"
   ]
  },
  {
   "cell_type": "markdown",
   "metadata": {},
   "source": [
    "### 4. Select all the genes that start with \"A\"\n",
    "\n",
    "Just to show another example of the many different things a *pandas* `DataFrame` allows you to do, we are going to select all the genes that start with \"A\".\n",
    "\n",
    "First, let's find out how many genes start with \"A\". Remember that the genes serve as the (row) index for our `DataFrame`, which is stored in `DataFrame.index`."
   ]
  },
  {
   "cell_type": "code",
   "execution_count": 9,
   "metadata": {
    "collapsed": false
   },
   "outputs": [
    {
     "name": "stdout",
     "output_type": "stream",
     "text": [
      "<class 'numpy.ndarray'>\n",
      "Number of genes starting with \"A\": 1592\n"
     ]
    }
   ],
   "source": [
    "sel = df.index.str.startswith('A')\n",
    "\n",
    "print(type(sel))\n",
    "print('Number of genes starting with \"A\":', sel.sum())"
   ]
  },
  {
   "cell_type": "markdown",
   "metadata": {},
   "source": [
    "Let's now select our data:"
   ]
  },
  {
   "cell_type": "code",
   "execution_count": 10,
   "metadata": {
    "collapsed": false
   },
   "outputs": [
    {
     "name": "stdout",
     "output_type": "stream",
     "text": [
      "(1592, 30)\n"
     ]
    }
   ],
   "source": [
    "A_only = df.loc[sel]  # done\n",
    "\n",
    "print(A_only.shape)"
   ]
  },
  {
   "cell_type": "markdown",
   "metadata": {},
   "source": [
    "What we've done here is to first create a Boolean array (`sel`), and then we've used that array to select the genes we're interested in. This example shows that the `.loc` operator not only accepts strings (row or columns labels), but also Boolean arrays. This provdes a very useful way of selecting samples based on arbitrary conditions."
   ]
  },
  {
   "cell_type": "markdown",
   "metadata": {},
   "source": [
    "### 5. Merge two dataframes\n",
    "\n",
    "In the previous sections, we've looked at selecting subsets of data from a `DataFrame`. However, sometimes we would also like to merge some parts together, creating a merged `DataFrame`. The simplest function for doing that is `pandas.concat()`.\n",
    "\n",
    "For example, let's select the genes starting with Z (as before with A), and then merge the two sets together."
   ]
  },
  {
   "cell_type": "code",
   "execution_count": 13,
   "metadata": {
    "collapsed": false
   },
   "outputs": [
    {
     "name": "stdout",
     "output_type": "stream",
     "text": [
      "(800, 30)\n",
      "(2392, 30)\n"
     ]
    }
   ],
   "source": [
    "Z_only = df.loc[df.index.str.startswith('Z')]\n",
    "print(Z_only.shape)\n",
    "\n",
    "combined = pd.concat([A_only, Z_only], axis=0)\n",
    "print(combined.shape)"
   ]
  },
  {
   "cell_type": "markdown",
   "metadata": {},
   "source": [
    "The `axis=0` parameter is not strictly necessary, since 0 is the default value if the parameter isn't specified. However, it's important to understand that we always concatenate along a specific axis. In this case, we're concatening along the rows (genes), which is the first axis (0). Had we specified `axis=1`, we would have gotten a very different result:"
   ]
  },
  {
   "cell_type": "code",
   "execution_count": 17,
   "metadata": {
    "collapsed": false
   },
   "outputs": [
    {
     "name": "stdout",
     "output_type": "stream",
     "text": [
      "(2392, 60)\n"
     ]
    }
   ],
   "source": [
    "messy = pd.concat([A_only, Z_only], axis=1)\n",
    "print(messy.shape)"
   ]
  },
  {
   "cell_type": "markdown",
   "metadata": {},
   "source": [
    "Note that we all of a sudden have a DataFrame with 60 columns (instead of 30). This is because we've concatenated along the columns, essentially treating the samples in `A_only` and `Z_only` as separate entities. However, since `Z_only` contains none of the genes in `A_only`, and vice versa, these values have been filled in with `NaN` (not a number):"
   ]
  },
  {
   "cell_type": "code",
   "execution_count": 19,
   "metadata": {
    "collapsed": false
   },
   "outputs": [
    {
     "name": "stdout",
     "output_type": "stream",
     "text": [
      "      TCGA-BH-A1EV-01A  TCGA-B6-A0WW-01A  TCGA-LL-A73Z-01A  TCGA-BH-A18J-01A  \\\n",
      "A1BG           2.32193           2.32193           2.32193           2.32193   \n",
      "A1CF           2.32193           2.32193           2.32193           2.32193   \n",
      "\n",
      "      TCGA-A2-A04P-01A  TCGA-AR-A0TY-01A  TCGA-AC-A62V-01A  TCGA-BH-A1FU-01A  \\\n",
      "A1BG           2.32193           2.32193           2.32193           2.32193   \n",
      "A1CF           2.32193           2.32193           2.32193           2.32193   \n",
      "\n",
      "      TCGA-BH-A18Q-01A  TCGA-A2-A0YT-01A        ...         TCGA-A2-A3XU-01A  \\\n",
      "A1BG           2.32193           2.32193        ...                      NaN   \n",
      "A1CF           2.32193           2.32193        ...                      NaN   \n",
      "\n",
      "      TCGA-A2-A0CM-01A  TCGA-A2-A3XY-01A  TCGA-BH-A1EW-01A  TCGA-BH-A0BF-01A  \\\n",
      "A1BG               NaN               NaN               NaN               NaN   \n",
      "A1CF               NaN               NaN               NaN               NaN   \n",
      "\n",
      "      TCGA-BH-A18L-01A  TCGA-BH-A208-01A  TCGA-E9-A1N6-01A  TCGA-B6-A409-01A  \\\n",
      "A1BG               NaN               NaN               NaN               NaN   \n",
      "A1CF               NaN               NaN               NaN               NaN   \n",
      "\n",
      "      TCGA-BH-A1FH-01A  \n",
      "A1BG               NaN  \n",
      "A1CF               NaN  \n",
      "\n",
      "[2 rows x 60 columns]\n"
     ]
    }
   ],
   "source": [
    "print(messy[:2])"
   ]
  },
  {
   "cell_type": "markdown",
   "metadata": {},
   "source": [
    "### 6. Resources\n",
    "\n",
    "- Extensive 2012 video tutorial from Wes McKinney, the creator of *pandas*: https://www.youtube.com/watch?v=w26x-z-BdWQ\n",
    "- Talk on how Pandas works \"behind the scenes\": https://www.youtube.com/watch?v=DpyhdO4aM04\n",
    "- A large number of *pandas* tutorials are available from youtube.\n",
    "- The pandas documentation: http://pandas.pydata.org/pandas-docs/stable/"
   ]
  },
  {
   "cell_type": "markdown",
   "metadata": {},
   "source": [
    "### Copyright and License\n",
    "\n",
    "Copyright (c) 2016 Florian Wagner.\n",
    "\n",
    "This work is licensed under a [Creative Commons Attribution-NonCommercial-ShareAlike 4.0 International License](http://creativecommons.org/licenses/by-nc-sa/4.0/)."
   ]
  }
 ],
 "metadata": {
  "kernelspec": {
   "display_name": "Python 3",
   "language": "python",
   "name": "python3"
  },
  "language_info": {
   "codemirror_mode": {
    "name": "ipython",
    "version": 3
   },
   "file_extension": ".py",
   "mimetype": "text/x-python",
   "name": "python",
   "nbconvert_exporter": "python",
   "pygments_lexer": "ipython3",
   "version": "3.5.2"
  }
 },
 "nbformat": 4,
 "nbformat_minor": 0
}
