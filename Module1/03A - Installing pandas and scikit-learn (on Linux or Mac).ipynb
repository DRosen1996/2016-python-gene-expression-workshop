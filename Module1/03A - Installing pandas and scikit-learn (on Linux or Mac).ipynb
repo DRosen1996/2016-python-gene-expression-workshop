{
 "cells": [
  {
   "cell_type": "markdown",
   "metadata": {},
   "source": [
    "### Installing packages with `pip`, the Python package manager\n",
    "\n",
    "`pip` is the main tool used to install Python packages. Importantly, pip works well in combination with conda environments. So what we'll do is install Python packages *inside* a conda environment. In that way, we keep our environments independent from one another."
   ]
  },
  {
   "cell_type": "markdown",
   "metadata": {},
   "source": [
    "### What is *pandas* and *scikit-learn*?"
   ]
  },
  {
   "cell_type": "markdown",
   "metadata": {},
   "source": [
    "*pandas* (http://pandas.pydata.org/) is an extremely useful Python package for working with labeled data. For example, expression data consists of a matrix with expression values, along with row labels (genes) and column labels (samples). *scikit-learn* (http://scikit-learn.org/stable/) is a Python package that contains implementations a lot of machine learning models and algorithms."
   ]
  },
  {
   "cell_type": "markdown",
   "metadata": {},
   "source": [
    "### 1. Installing *scikit-learn* (using `pip`)\n",
    "\n",
    "Make sure the *testenv* `conda` environment is active (reminder: `source activate testenv`), and then run:\n",
    "\n",
    "`pip install scikit-learn`\n",
    "\n",
    "To test whether the installation was successful, run (in Python):\n",
    "\n",
    "`import sklearn`\n",
    "\n",
    "If there is no error, it looks like you've installed *scikit-learn* successfully. Note that even though the package is called *scikit-learn*, its name in Python is `sklearn` (Python doesn't allow hyphens in the name)."
   ]
  },
  {
   "cell_type": "markdown",
   "metadata": {},
   "source": [
    "### 2. Installing *pandas* (using `pip`)\n",
    "\n",
    "*pandas* can be installed using `pip`, in exactly the same way as *scikit-learn*:\n",
    "\n",
    "`pip install pandas`\n",
    "\n",
    "To test if the installation was successful, run (in Python):\n",
    "\n",
    "`import pandas`\n",
    "\n",
    "If there is no error, it looks like you've installed *pandas* successfully."
   ]
  },
  {
   "cell_type": "markdown",
   "metadata": {},
   "source": [
    "### Congratulations!\n",
    "\n",
    "You've just installed two super-powerful Python packages!"
   ]
  },
  {
   "cell_type": "markdown",
   "metadata": {},
   "source": [
    "### Copyright and License\n",
    "\n",
    "Copyright (c) 2016 Florian Wagner.\n",
    "\n",
    "This work is licensed under a [Creative Commons Attribution-NonCommercial-ShareAlike 4.0 International License](http://creativecommons.org/licenses/by-nc-sa/4.0/)."
   ]
  }
 ],
 "metadata": {
  "kernelspec": {
   "display_name": "Python 3",
   "language": "python",
   "name": "python3"
  },
  "language_info": {
   "codemirror_mode": {
    "name": "ipython",
    "version": 3
   },
   "file_extension": ".py",
   "mimetype": "text/x-python",
   "name": "python",
   "nbconvert_exporter": "python",
   "pygments_lexer": "ipython3",
   "version": "3.5.2"
  }
 },
 "nbformat": 4,
 "nbformat_minor": 0
}
