{
 "cells": [
  {
   "cell_type": "markdown",
   "metadata": {},
   "source": [
    "### In this notebook\n",
    "\n",
    "- This notebook compiles some free and really nice video lectures for Python beginners that also introduce some tools for data analysis. I've a added a few notes to explain how they relate to our workshop.\n",
    "- If you're new to Python, need to brush up on a few basic concepts, or have never worked with NumPy, look at these lectures and use them to get started with some of the things we will be using in this workshop."
   ]
  },
  {
   "cell_type": "markdown",
   "metadata": {},
   "source": [
    "### Free introductory Python video lectures\n",
    "\n",
    "The following video lectures are from a course called \"Introduction to Python for Data Science\". This course is available for free from both [edX](https://www.edx.org) and [DataCamp](https://www.datacamp.com), but the [DataCamp version](https://www.datacamp.com/courses/intro-to-python-for-data-science) has no restrictions on when you can enroll (you just need to create a DataCamp account). \n",
    "\n",
    "The video lectures are all very short, and if you're new to programming in general or Python specifically, they are a great way for you to assess how comfortable you feel with some of the basics that we will rely on in this workshop. Whenever you encounter a concept you don't feel comfortable with, look up additional resources:\n",
    "\n",
    "- If you have questions regarding Python basics, I recommend that you try to look them up in the [Dive Into Python 3](http://www.diveintopython3.net/) tutorial.\n",
    "\n",
    "\n",
    "- For both simple and more advanced questions, googling \"how do I .... in Python\" and looking for results from http://www.stackoverflow.com is also a great strategy.\n",
    "\n",
    "  For example, I just googled: \"how do I delete an item from a list in Python\" and got this as the first result:\n",
    "  http://stackoverflow.com/questions/627435/how-to-remove-an-element-from-a-list-by-index-in-python"
   ]
  },
  {
   "cell_type": "markdown",
   "metadata": {},
   "source": [
    "#### Lecture 1.1: [Hello Python!](https://www.youtube.com/watch?v=BuFz7G0tdus)\n",
    "  \n",
    "Notes:\n",
    "\n",
    "* In this workshop, we use neither scripts nor the IPython shell directly. Instead, we are using Jupyter notebooks! Jupyter notebooks combine functionalities from both scripts and shells.\n",
    "  \n",
    "* In principle, the Python code you write is exactly the same, no matter whether you run it as a script, inside a shell, or in a Jupyter notebook. However, when you write multiple lines of Python code inside a single notebook cell (the gray shaded area), and then execute that cell (with Control+Enter), only the return value from the last line is shown (if that line produces a return value). Therefore, if you want to see the reutrn value of an intermediate line, you must use the `print()` function. For example:"
   ]
  },
  {
   "cell_type": "code",
   "execution_count": 1,
   "metadata": {
    "collapsed": false
   },
   "outputs": [
    {
     "data": {
      "text/plain": [
       "50"
      ]
     },
     "execution_count": 1,
     "metadata": {},
     "output_type": "execute_result"
    }
   ],
   "source": [
    "# the output of this code is \"50\", even without a print() call, because the last line returns 50\n",
    "x = 5\n",
    "10 * x"
   ]
  },
  {
   "cell_type": "code",
   "execution_count": 7,
   "metadata": {
    "collapsed": true
   },
   "outputs": [],
   "source": [
    "# this code does not produce any output, because by default, only the return value of the last line is shown,\n",
    "# and in this case, the last line is an assignment that does not produce a return value\n",
    "x = 5\n",
    "10 * x\n",
    "x = x+2"
   ]
  },
  {
   "cell_type": "code",
   "execution_count": 4,
   "metadata": {
    "collapsed": false
   },
   "outputs": [
    {
     "name": "stdout",
     "output_type": "stream",
     "text": [
      "50\n"
     ]
    }
   ],
   "source": [
    "# to see the result of \"10 * x\", do this:\n",
    "x = 5\n",
    "print(10*x)\n",
    "x = x+2"
   ]
  },
  {
   "cell_type": "markdown",
   "metadata": {},
   "source": [
    "#### Lecture 1.2: [Variables and Types](https://www.youtube.com/watch?v=TmffoFsA0HU)\n",
    "  \n",
    "Notes:\n",
    "\n",
    "* Understanding the concept of variables and types is very important. If you don't feel comfortable with them, stop here and find some additional resources before continuing.\n",
    "\n",
    "* Whenever you're unsure or curious about the type of a variable, use `print(type(variable))`! For example:"
   ]
  },
  {
   "cell_type": "code",
   "execution_count": 8,
   "metadata": {
    "collapsed": false
   },
   "outputs": [
    {
     "name": "stdout",
     "output_type": "stream",
     "text": [
      "<class 'dict'>\n"
     ]
    }
   ],
   "source": [
    "d = {'Language': 'Python'}\n",
    "print(type(d))  # shows that d is a dictionary"
   ]
  },
  {
   "cell_type": "markdown",
   "metadata": {},
   "source": [
    "The following lectures explain what lists are and how you use them in Python:\n",
    "\n",
    "#### Lecture 2.1: [Python Lists](https://www.youtube.com/watch?v=dSuhaFjAJaA)\n",
    "\n",
    "#### Lecture 2.2: [Subsetting Lists](https://www.youtube.com/watch?v=PGWbdhltIjI)\n",
    "  \n",
    "  Notes:\n",
    "  \n",
    "  * This lecture introduces the notions of **indexing** and **slicing**. These are both completely general concepts in Python, and are very important in the context of our workshop! If they are not familiar to you, stop here and become good at indexing and slicing lists before moving on!\n",
    "  \n",
    "#### Lecture 2.3: [Manipulating Lists](https://www.youtube.com/watch?v=mEDxAQA03wg)\n",
    "  \n",
    "  Notes:\n",
    "  \n",
    "  * Towards the end of this lecture, the notion of references is introduced and demonstrated on a concrete example. This can be confusing for beginners, and is not immediately relevant to our workshop, so don't worry if you don't exactly understand it.\n"
   ]
  },
  {
   "cell_type": "markdown",
   "metadata": {},
   "source": [
    "The following lectures introduce functions, methods and packages in Python:\n",
    "\n",
    "#### Lecture 3.1: [Functions](https://www.youtube.com/watch?v=0vK688Es_Sk)\n",
    "\n",
    "  Notes:\n",
    "\n",
    "  * This lecture introduces the concept of functions, which is very basic and important. Stop here if and find more resources if you don't feel familiar with the idea.\n",
    "  \n",
    "  * The lecture also mentions that you can use the `help()` function to get information about another function. This also works in Jupyter notebooks. For example:"
   ]
  },
  {
   "cell_type": "code",
   "execution_count": 17,
   "metadata": {
    "collapsed": false
   },
   "outputs": [
    {
     "name": "stdout",
     "output_type": "stream",
     "text": [
      "Help on built-in function round in module builtins:\n",
      "\n",
      "round(...)\n",
      "    round(number[, ndigits]) -> number\n",
      "    \n",
      "    Round a number to a given precision in decimal digits (default 0 digits).\n",
      "    This returns an int when called with one argument, otherwise the\n",
      "    same type as the number. ndigits may be negative.\n",
      "\n"
     ]
    }
   ],
   "source": [
    "help(round)"
   ]
  },
  {
   "cell_type": "markdown",
   "metadata": {},
   "source": [
    "#### Lecture 3.2: [Methods](https://www.youtube.com/watch?v=bQj6AcaYNSY)\n",
    "\n",
    "Notes:\n",
    "\n",
    "* This lecture introduces the concepts of **objects** and **methods**. Since **every variable in Python is an object**, it's *pretty useful* to know about these, and to understand the difference between methods and functions. I think the video does a good job highlighting these differences, and you should pay special attention to the fact that some methods change their associated object, while others don't. This will become important later.\n",
    "\n",
    "#### Lecture 3.3: [Packages](https://www.youtube.com/watch?v=rS0GJMSSHKY)\n",
    "\n",
    "Notes:\n",
    "\n",
    "* This lecture briefly talks about the concepts of *packages* and *modules*, which are very important for understanding the Python \"ecosystem\". It also introduces the `import` and (`from ... import ...`) statements that we will need in our workshop.\n",
    "* We won't use the *matplotlib* package in this workshop, and instead work with the *plotly* package.\n",
    "* We mostly won't work with the *numpy* package directly (only indirectly through `pandas`), but it's very useful if you already know how to work with *numpy*.\n",
    "* We will install some of the packages mentioned using `pip`, but we won't install `pip` using `get-pip.py`. Instead, we will use `conda` for that.\n",
    "* Also, we will install packages inside `conda` *environments*, which requires that we first *activate* the environment. We'll get to that later."
   ]
  },
  {
   "cell_type": "markdown",
   "metadata": {},
   "source": [
    "The following lectures talk about NumPy, which provides very powerful functionalities for working with vectors, matrices, and n-dimensional arrays in general. In this workshop, we will use pandas (see below), which internally uses NumPy and borrows a lot of the syntax from NumPy, so it's very useful to know about it, even if we won't be working much with it directly.\n",
    "\n",
    "#### Lecture 4.1: [NumPy](https://www.youtube.com/watch?v=JJ_Cq4cdVf0)\n",
    "\n",
    "Notes:\n",
    "\n",
    "* This lecture introduces a lot of concepts related to NumPy, from the basic array type to subsetting and selecting elements based on conditions.\n",
    "* In particular, the lecture shows how the concepts of indexing and slicing, first encountered in Python lists (see above), directly translate to NumPy arrays. See also lecture 4.2 below for more on slicing.\n",
    "\n",
    "#### Lecture 4.2: [2D Numpy Arrays](https://www.youtube.com/watch?v=nOZui0fh4ok)\n",
    "\n",
    "* As the title, suggests, this lecture introduces 2-dimensional NumPy arrays, otherwise known as matrices.\n",
    "* The lecture shows how the concept of indexing and slicing extends to 2-dimensional arrays. We will use a lot of that in the workshop, so make sure you understand how this works!\n",
    "\n",
    "#### Lecture 4.3: [Numpy: Basic Statistics](https://www.youtube.com/watch?v=OUaTmKIxCpY)\n",
    "\n",
    "* This video introduces a few basic NumPy functions for calculating means, medians and correlation coefficients. These are very good to know! "
   ]
  },
  {
   "cell_type": "markdown",
   "metadata": {},
   "source": [
    "#### Lecture 6.1: [Boolean Logic Control Flow](https://www.youtube.com/watch?v=X5cTzNKXFxU)\n",
    "\n",
    "Notes:\n",
    "\n",
    "* This lecture introduces some basic Python syntax: if, else, and elif. Yeah, you should definitely know that. \n",
    "\n",
    "#### Lecture 6.2: [Pandas](https://www.youtube.com/watch?v=wCnbczfN91s)\n",
    "\n",
    "Notes:\n",
    "\n",
    "* This lecture introduces the *pandas* package, which is where things get really interesting for the purposes of our workshop!\n",
    "* Specifically, the lecture introduces the *pandas* `DataFrame`, which is the most important data structure we're going to come across in this workshop.\n",
    "* The lecture also mentions that we typically generate `DataFrame` objects by reading data from a (text) file. This applies to our workshop, because we'll be reading expression data from text files. However, we prefer to store expression data in tab-separated, not comma-separated form. The only difference is that you have to call [`pandas.read_csv()`](http://pandas.pydata.org/pandas-docs/stable/generated/pandas.read_csv.html) with the parameter `sep='\\t'`."
   ]
  }
 ],
 "metadata": {
  "kernelspec": {
   "display_name": "Python 3",
   "language": "python",
   "name": "python3"
  },
  "language_info": {
   "codemirror_mode": {
    "name": "ipython",
    "version": 3
   },
   "file_extension": ".py",
   "mimetype": "text/x-python",
   "name": "python",
   "nbconvert_exporter": "python",
   "pygments_lexer": "ipython3",
   "version": "3.5.2"
  }
 },
 "nbformat": 4,
 "nbformat_minor": 0
}
