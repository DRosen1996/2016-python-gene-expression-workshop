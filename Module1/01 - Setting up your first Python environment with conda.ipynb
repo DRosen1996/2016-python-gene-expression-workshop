{
 "cells": [
  {
   "cell_type": "markdown",
   "metadata": {},
   "source": [
    "### 1. Installing Miniconda\n",
    "\n",
    "Miniconda is a distribution that includes the Python intepreter and `conda`, as well some packages they depend on.\n",
    "\n",
    "To install Minconda on Windows, Mac, or Linux, follow the instructions here: http://conda.pydata.org/docs/install/quick.html"
   ]
  },
  {
   "cell_type": "markdown",
   "metadata": {},
   "source": [
    "### 2. Getting started with `conda`\n",
    "\n",
    "The `conda` manual suggests that once you've successfully installed `conda`, you take the \"30-minute test drive\" (otherwise known as a tutorial), found here: http://conda.pydata.org/docs/test-drive.html\n",
    "\n",
    "\n",
    "If you have less than 30 minutes, you should at least know how to manage (create/list/remove) and activate/deactivate environments.\n",
    "\n",
    "To **create** a new Python 3.5 enrivonment, run:\n",
    "\n",
    "``conda create -n NAME python=3.5``\n",
    "\n",
    "Once you've created your environment, it should show up in the **list of environments**:\n",
    "\n",
    "``conda-env list``\n",
    "\n",
    "The command to **activate** an enrivonment is slightly different on Windows vs. other operating systems. On Windows, type:\n",
    "\n",
    "``activate NAME`` \n",
    "\n",
    "On Mac or Linux, type:\n",
    "\n",
    "``source activate NAME``\n",
    "\n",
    "Similarly, to **deactivate** an environment on Windows, type:\n",
    "\n",
    "``deactivate``\n",
    "\n",
    "On Mac or Linux:\n",
    "\n",
    "``source deactivate``\n",
    "\n",
    "Finally, to **remove** an enrivonment, type:\n",
    "\n",
    "``conda remove -n NAME``"
   ]
  },
  {
   "cell_type": "markdown",
   "metadata": {},
   "source": [
    "### 3. Setting up your first Python environment with `conda`\n",
    "\n",
    "To install a Python 3.5 environment named \"testenv\", run:\n",
    "\n",
    "`conda create -n testenv python=3.5`"
   ]
  },
  {
   "cell_type": "markdown",
   "metadata": {},
   "source": [
    "### Congratulations!\n",
    "\n",
    "You've just acquired Python superpowers!"
   ]
  },
  {
   "cell_type": "markdown",
   "metadata": {},
   "source": [
    "### Copyright and License\n",
    "\n",
    "Copyright (c) 2016 Florian Wagner.\n",
    "\n",
    "This work is licensed under a [Creative Commons Attribution-NonCommercial-ShareAlike 4.0 International License](http://creativecommons.org/licenses/by-nc-sa/4.0/)."
   ]
  }
 ],
 "metadata": {
  "kernelspec": {
   "display_name": "Python 3",
   "language": "python",
   "name": "python3"
  },
  "language_info": {
   "codemirror_mode": {
    "name": "ipython",
    "version": 3
   },
   "file_extension": ".py",
   "mimetype": "text/x-python",
   "name": "python",
   "nbconvert_exporter": "python",
   "pygments_lexer": "ipython3",
   "version": "3.5.2"
  }
 },
 "nbformat": 4,
 "nbformat_minor": 0
}
