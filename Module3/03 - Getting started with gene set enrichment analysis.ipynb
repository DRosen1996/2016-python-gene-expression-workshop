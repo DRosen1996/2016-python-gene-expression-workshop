{
 "cells": [
  {
   "cell_type": "markdown",
   "metadata": {},
   "source": [
    "### In this notebook\n",
    "\n",
    "- Generating a list of all human protein-coding genes (optional).\n",
    "- Reading a list of gene sets defined based on GO annotations.\n",
    "- Reading the expression data.\n",
    "- Performing gene set enrichment analysis using the XL-mHG test."
   ]
  },
  {
   "cell_type": "markdown",
   "metadata": {},
   "source": [
    "### Versions of Python packages used to generate these results"
   ]
  },
  {
   "cell_type": "code",
   "execution_count": 1,
   "metadata": {
    "collapsed": false
   },
   "outputs": [
    {
     "name": "stdout",
     "output_type": "stream",
     "text": [
      "genometools: 2.0.3\n"
     ]
    }
   ],
   "source": [
    "import genometools\n",
    "print('genometools:', genometools.__version__)"
   ]
  },
  {
   "cell_type": "markdown",
   "metadata": {},
   "source": [
    "### 1. Generating a list of all human-protein-coding genes (you can skip this if you want)\n",
    "\n",
    "When performing gene set enrichment analysis, it is important to define your \"universe\" of genes. We are restricting ourselves to protein-coding genes. Next, there are different databases for obtaining a list of protein-coding genes. Here, we're using genome annotations from [Ensembl](http://useast.ensembl.org/info/data/ftp/index.html) (release 83). This file is relatively large, and we're downloading it from the Ensembl FTP site.\n",
    "\n",
    "Note: If you don't want to deal with generating this file for now, skip to the next section! The output file (`protein_coding_genes_human_ensembl83.tsv`) is already included with these notebooks, in the `data` directory."
   ]
  },
  {
   "cell_type": "code",
   "execution_count": 2,
   "metadata": {
    "collapsed": false
   },
   "outputs": [],
   "source": [
    "import os\n",
    "    \n",
    "from genometools import misc\n",
    "\n",
    "ensembl_annotation_url = 'ftp://ftp.ensembl.org/pub/release-83/gtf/homo_sapiens/Homo_sapiens.GRCh38.83.gtf.gz'\n",
    "ensembl_annotation_file = os.path.join('..', 'output', 'Homo_sapiens.GRCh38.83.gtf.gz')\n",
    "\n",
    "# download the Ensembl gene annotation file\n",
    "misc.ftp_download(ensembl_annotation_url, ensembl_annotation_file)"
   ]
  },
  {
   "cell_type": "markdown",
   "metadata": {},
   "source": [
    "Now, we're extracting a list of all protein-coding genes from the Ensembl gene annotation file. We're using a script (`ensembl_extract_protein_coding_genes.py`) from the *genometools* package for this. In order to make a command-line call from inside a jupyter notebook, we have to use an exclamation mark (e.g., `!echo \"Hello, world\"`). We're also using the values of some (Python) variables to create the command, using the \"$\" sign. Don't worry if this doesn't make sense to you - the following sections do not involve any command-line calls."
   ]
  },
  {
   "cell_type": "code",
   "execution_count": 3,
   "metadata": {
    "collapsed": false
   },
   "outputs": [
    {
     "name": "stdout",
     "output_type": "stream",
     "text": [
      "[2016-10-27 11:38:19] INFO: Regular expression used for filtering chromosome names: \"(?:\\d\\d?|MT|X|Y)$\"\n",
      "[2016-10-27 11:38:19] INFO: Parsing data...\n",
      "[2016-10-27 11:38:45] INFO: done (parsed 2569155 lines).\n",
      "[2016-10-27 11:38:45] INFO: \n",
      "[2016-10-27 11:38:45] INFO: Gene chromosomes (25):\n",
      "[2016-10-27 11:38:45] INFO: \t1, 10, 11, 12, 13, 14, 15, 16, 17, 18, 19, 2, 20, 21, 22, 3, 4, 5, 6, 7, 8, 9, MT, X, Y\n",
      "[2016-10-27 11:38:45] INFO: \n",
      "[2016-10-27 11:38:45] INFO: Excluded chromosomes (15):\n",
      "[2016-10-27 11:38:45] INFO: \tGL000009.2, GL000194.1, GL000195.1, GL000205.2, GL000213.1, GL000218.1, GL000219.1, KI270711.1, KI270713.1, KI270721.1, KI270726.1, KI270727.1, KI270728.1, KI270731.1, KI270734.1\n",
      "[2016-10-27 11:38:45] INFO: \n",
      "[2016-10-27 11:38:45] INFO: Gene sources:\n",
      "[2016-10-27 11:38:45] INFO: \tensembl_havana: 18825\n",
      "[2016-10-27 11:38:45] INFO: \thavana: 791\n",
      "[2016-10-27 11:38:45] INFO: \tensembl: 226\n",
      "[2016-10-27 11:38:45] INFO: \tinsdc: 13\n",
      "[2016-10-27 11:38:45] INFO: \n",
      "[2016-10-27 11:38:45] INFO: Gene types:\n",
      "[2016-10-27 11:38:45] INFO: \tprotein_coding: 19797\n",
      "[2016-10-27 11:38:45] INFO: \tpolymorphic_pseudogene: 58\n",
      "[2016-10-27 11:38:45] INFO: \n",
      "[2016-10-27 11:38:45] INFO: # Genes with redundant annotations: 47\n",
      "[2016-10-27 11:38:45] INFO: \n",
      "[2016-10-27 11:38:45] INFO: Polymorphic pseudogenes (58): AKR7L (1), C6orf183 (1), CASP12 (1), CYP2D7 (1), FCGR2C (1), GBA3 (1), GSTT2 (1), IFNL4 (1), KIR2DS4 (1), MROH5 (1), NAT8B (1), OR10A6 (1), OR10AC1 (1), OR10C1 (1), OR10J4 (1), OR10X1 (1), OR11H7 (1), OR12D1 (1), OR12D2 (1), OR13C7 (1), OR1B1 (1), OR1S1 (1), OR2AG1 (1), OR2F1 (1), OR2J1 (1), OR2L8 (1), OR2S2 (1), OR2T11 (1), OR4A8 (1), OR4C16 (1), OR4Q2 (1), OR4X1 (1), OR4X2 (1), OR51B2 (1), OR51F1 (1), OR51G1 (1), OR52B4 (1), OR52E1 (1), OR52R1 (1), OR52Z1 (1), OR5AC1 (1), OR5AL1 (1), OR5AR1 (1), OR5D13 (1), OR5G3 (1), OR5H6 (1), OR5H8 (1), OR5L1 (1), OR5R1 (1), OR6Q1 (1), OR8B4 (1), OR8D2 (1), OR8J2 (1), OR8K3 (1), PKD1L2 (1), PNLIPRP2 (1), SERPINA2 (1), UBE2NL (1)\n",
      "[2016-10-27 11:38:45] INFO: \n",
      "[2016-10-27 11:38:45] INFO: Total protein-coding genes: 19808\n"
     ]
    }
   ],
   "source": [
    "import os\n",
    "\n",
    "genome_file = os.path.join('..', 'output', 'protein_coding_genes_human_ensembl83.tsv')\n",
    "\n",
    "!ensembl_extract_protein_coding_genes.py -a \"$ensembl_annotation_file\" -o \"$genome_file\""
   ]
  },
  {
   "cell_type": "markdown",
   "metadata": {},
   "source": [
    "### 2. Reading a list of gene sets, defined based on Gene Ontology annotations\n",
    "\n",
    "The *genometools* package provides a class, `GeneSetCollection`, that represents a list of gene sets (which are in turn represented as objects of the `GeneSet` class). This class allows reading (\"importing\") and writing (\"exporting\") gene sets as plain-text files. Here, we are using the `GeneSetCollection.read_tsv()` function to import 7,000 or so gene sets defined based on GO terms.\n",
    "\n",
    "More specifically, each gene set contains all protein-coding genes in the human genome annotated with a particular GO term. Furthermore, in generating this file, only annotations that were made based on experimental evidence were considered. (The majority of GO annotations are based on computational predictions, and are presumably less accurate.) Also, GO terms that had less than 5 or more than 200 genes annotated with them were excluded, since those terms are too specific or too general, respectively."
   ]
  },
  {
   "cell_type": "code",
   "execution_count": 4,
   "metadata": {
    "collapsed": false
   },
   "outputs": [
    {
     "name": "stdout",
     "output_type": "stream",
     "text": [
      "Gene set file: ../data/GO_gene_sets_human_ensembl83_goa153_ontology2016-01-18.tsv\n",
      "<GeneSetCollection object (n=6921)>\n"
     ]
    }
   ],
   "source": [
    "import os\n",
    "\n",
    "from genometools.basic import GeneSetCollection\n",
    "\n",
    "gene_set_file = os.path.join('..', 'data', 'GO_gene_sets_human_ensembl83_goa153_ontology2016-01-18.tsv')\n",
    "print('Gene set file:', gene_set_file)\n",
    "\n",
    "gene_sets = GeneSetCollection.read_tsv(gene_set_file)\n",
    "print(gene_sets)"
   ]
  },
  {
   "cell_type": "markdown",
   "metadata": {},
   "source": [
    "### 3. Reading the expression data\n",
    "\n",
    "In this example, we will compare gene expression levels between tumors from two sets of patients diagnosed with breast cancer (specifically, invasive ductal carcinoma) from the TCGA project. The first set of patients are those that died within 5 years of their diagnosis. The second set of patients survived for at least 5 years.\n",
    "\n",
    "Note: All patients in this example were younger than 60 years at the time of diagnosis. I chose to filter patients using this cutoff to make it less likely that the death of a patient was caused by factors unrelated to their breast cancer diagnosis. (I did not find information on the cause of death in the TCGA data.)"
   ]
  },
  {
   "cell_type": "code",
   "execution_count": 5,
   "metadata": {
    "collapsed": false
   },
   "outputs": [],
   "source": [
    "import os\n",
    "\n",
    "from genometools.expression import ExpMatrix\n",
    "\n",
    "dead_expression_file = os.path.join('..', 'data', 'brca_expression_5yr_dead.tsv')\n",
    "survive_expression_file = os.path.join('..', 'data', 'brca_expression_5yr_survive.tsv')\n",
    "\n",
    "matrix_dead = ExpMatrix.read_tsv(dead_expression_file)\n",
    "matrix_survive = ExpMatrix.read_tsv(survive_expression_file)"
   ]
  },
  {
   "cell_type": "markdown",
   "metadata": {},
   "source": [
    "### 4. Performing the enrichment analysis using the XL-mHG test\n",
    "\n",
    "We are now almost ready to get started with the gene set enrichment analysis itself. We need to read the list of protein-coding genes. Similarly to the gene sets, the *genometools* package provides a data structure for that, `ExpGenome`."
   ]
  },
  {
   "cell_type": "code",
   "execution_count": 6,
   "metadata": {
    "collapsed": false
   },
   "outputs": [
    {
     "name": "stdout",
     "output_type": "stream",
     "text": [
      "<ExpGenome object with 19808 genes>\n"
     ]
    }
   ],
   "source": [
    "import os\n",
    "\n",
    "from genometools.expression import ExpGenome\n",
    "\n",
    "genome_file = os.path.join('..', 'data', 'protein_coding_genes_human_ensembl83.tsv')\n",
    "\n",
    "genome = ExpGenome.read_tsv(genome_file)\n",
    "print(genome)"
   ]
  },
  {
   "cell_type": "markdown",
   "metadata": {
    "collapsed": true
   },
   "source": [
    "Finally, we are ready to run our first gene set enrichment analysis in Python."
   ]
  },
  {
   "cell_type": "code",
   "execution_count": 7,
   "metadata": {
    "collapsed": false,
    "scrolled": true
   },
   "outputs": [
    {
     "name": "stdout",
     "output_type": "stream",
     "text": [
      "[2016-10-27 11:38:47] INFO: Starting new HTTPS connection (1): api.plot.ly\n",
      "[2016-10-27 11:38:49] INFO: Generating gene-by-gene set membership matrix...\n",
      "[2016-10-27 11:38:49] WARNING: No E-score p-value threshold supplied. The E-score p-value threshold will be set to theglobal significance threshold. This will result in conservative E-scores.\n",
      "[2016-10-27 11:38:50] INFO: Conducting 6921 tests.\n",
      "[2016-10-27 11:38:50] INFO: Using Bonferroni-corrected p-value threshold: 7.2e-06\n",
      "[2016-10-27 11:38:55] INFO: 217 / 6921 gene sets were found to be significantly enriched (p-value <= 7.2e-06).\n",
      "00. condensed chromosome outer kinetochore (12 / 12 @ 3908), p=2.5e-08, e=30.9x\n",
      "01. regulation of attachment of spindle microtubules to kinetochore (5 / 11 @ 371), p=5.1e-06, e=24.2x\n",
      "02. mitotic chromosome condensation (7 / 11 @ 535), p=2.0e-08, e=23.5x\n",
      "03. condensed chromosome kinetochore (14 / 23 @ 1422), p=5.3e-10, e=18.8x\n",
      "04. condensed chromosome, centromeric region (16 / 27 @ 1422), p=4.2e-11, e=18.3x\n",
      "05. chromosome condensation (7 / 17 @ 535), p=1.3e-06, e=15.2x\n",
      "06. spindle checkpoint (10 / 37 @ 368), p=1.2e-08, e=14.5x\n",
      "07. regulation of transcription involved in G1/S transition of mitotic cell cycle (17 / 24 @ 3389), p=1.0e-07, e=14.4x\n",
      "08. spindle assembly checkpoint (9 / 34 @ 368), p=9.2e-08, e=14.2x\n",
      "09. mitotic spindle assembly (10 / 24 @ 1210), p=5.5e-06, e=12.8x\n",
      "10. chromatin remodeling at centromere (23 / 31 @ 4264), p=7.0e-09, e=12.5x\n",
      "11. centromere complex assembly (27 / 35 @ 4264), p=5.4e-11, e=12.5x\n",
      "12. mitotic spindle elongation (6 / 8 @ 1210), p=4.8e-06, e=12.3x\n",
      "13. CENP-A containing nucleosome assembly (22 / 29 @ 4757), p=6.4e-08, e=10.8x\n",
      "14. mitotic sister chromatid segregation (46 / 65 @ 4527), p=6.4e-15, e=10.2x\n",
      "15. DNA strand elongation involved in DNA replication (24 / 33 @ 3241), p=1.7e-11, e=8.4x\n",
      "16. MCM complex (9 / 11 @ 2173), p=6.4e-07, e=8.3x\n",
      "17. metaphase plate congression (15 / 39 @ 1385), p=2.4e-07, e=8.2x\n",
      "18. sister chromatid segregation (44 / 79 @ 3262), p=4.4e-14, e=7.9x\n",
      "19. mitotic spindle organization (18 / 45 @ 1336), p=3.0e-09, e=7.1x\n",
      "20. kinetochore (65 / 81 @ 4938), p=6.2e-24, e=6.8x\n",
      "21. microtubule cytoskeleton organization involved in mitosis (11 / 27 @ 1223), p=2.3e-06, e=6.6x\n",
      "22. spindle microtubule (16 / 42 @ 1395), p=1.1e-07, e=6.5x\n",
      "23. histone exchange (18 / 38 @ 1931), p=3.5e-08, e=6.3x\n",
      "24. DNA strand elongation (30 / 38 @ 4666), p=1.4e-11, e=6.3x\n",
      "25. DNA replication-independent nucleosome assembly (26 / 39 @ 4264), p=2.2e-08, e=6.3x\n",
      "26. mitotic nuclear division (89 / 138 @ 4543), p=6.8e-24, e=6.3x\n",
      "27. chromosome, centromeric region (81 / 108 @ 4938), p=3.9e-26, e=6.2x\n",
      "28. condensed chromosome (52 / 83 @ 4315), p=2.5e-14, e=6.1x\n",
      "29. mitotic spindle (16 / 42 @ 1522), p=3.5e-07, e=6.0x\n",
      "30. negative regulation of sister chromatid segregation (24 / 37 @ 4934), p=3.0e-06, e=5.7x\n",
      "31. mitotic metaphase plate congression (13 / 33 @ 1385), p=1.3e-06, e=5.6x\n",
      "32. nuclear pore organization (10 / 10 @ 4938), p=4.9e-06, e=5.6x\n",
      "33. regulation of chromosome segregation (49 / 81 @ 4935), p=1.8e-10, e=5.5x\n",
      "34. establishment of chromosome localization (17 / 46 @ 1385), p=6.0e-08, e=5.3x\n",
      "35. spindle organization (47 / 78 @ 4810), p=2.2e-10, e=4.7x\n",
      "36. nuclear pore outer ring (10 / 10 @ 4938), p=4.9e-06, e=4.7x\n",
      "37. nuclear chromosome segregation (50 / 110 @ 2977), p=5.0e-13, e=4.4x\n",
      "38. chromosome segregation (89 / 146 @ 4791), p=8.9e-20, e=4.3x\n",
      "39. regulation of sister chromatid segregation (19 / 65 @ 1362), p=4.3e-07, e=4.2x\n",
      "40. regulation of mitotic sister chromatid separation (32 / 55 @ 4934), p=1.5e-06, e=4.2x\n",
      "41. DNA-dependent DNA replication (40 / 80 @ 3241), p=5.5e-11, e=4.2x\n",
      "42. regulation of mitotic sister chromatid segregation (17 / 59 @ 1362), p=2.5e-06, e=4.2x\n",
      "43. spindle pole (22 / 73 @ 1430), p=5.4e-08, e=4.2x\n",
      "44. spindle (50 / 168 @ 1430), p=4.0e-17, e=4.1x\n",
      "45. regulation of mitotic metaphase/anaphase transition (31 / 53 @ 4934), p=1.9e-06, e=4.1x\n",
      "46. regulation of metaphase/anaphase transition of cell cycle (31 / 54 @ 4934), p=3.3e-06, e=4.0x\n",
      "47. ATP-dependent chromatin remodeling (37 / 58 @ 4757), p=2.0e-09, e=4.0x\n",
      "48. mitotic nuclear envelope disassembly (30 / 44 @ 4677), p=6.2e-09, e=3.9x\n",
      "49. nucleolar part (18 / 25 @ 4765), p=4.7e-06, e=3.9x\n",
      "50. regulation of mitotic nuclear division (33 / 125 @ 1385), p=2.4e-10, e=3.8x\n",
      "51. microtubule binding (54 / 103 @ 4810), p=8.8e-09, e=3.6x\n",
      "52. regulation of nuclear division (33 / 131 @ 1385), p=9.1e-10, e=3.6x\n",
      "53. mitochondrial RNA metabolic process (18 / 26 @ 3820), p=4.2e-07, e=3.6x\n",
      "54. positive regulation of mitotic cell cycle (22 / 88 @ 1379), p=1.0e-06, e=3.6x\n",
      "55. DNA packaging (53 / 109 @ 3993), p=3.8e-10, e=3.6x\n",
      "56. mitochondrial small ribosomal subunit (16 / 21 @ 4271), p=1.3e-06, e=3.5x\n",
      "57. regulation of microtubule cytoskeleton organization (55 / 94 @ 4935), p=7.1e-11, e=3.5x\n",
      "58. nuclear pore (25 / 42 @ 3423), p=1.2e-08, e=3.5x\n",
      "59. positive regulation of cell division (21 / 81 @ 1527), p=4.7e-06, e=3.4x\n",
      "60. DNA replication (89 / 154 @ 4911), p=6.2e-17, e=3.3x\n",
      "61. protein-DNA complex assembly (37 / 78 @ 3756), p=1.2e-07, e=3.3x\n",
      "62. regulation of cellular response to heat (49 / 76 @ 4475), p=1.4e-13, e=3.3x\n",
      "63. midbody (25 / 100 @ 1527), p=9.9e-07, e=3.2x\n",
      "64. DNA conformation change (76 / 155 @ 4264), p=5.7e-13, e=3.2x\n",
      "65. tRNA aminoacylation for protein translation (26 / 42 @ 4373), p=3.3e-07, e=3.2x\n",
      "66. microtubule (42 / 162 @ 1625), p=1.6e-10, e=3.2x\n",
      "67. Cajal body (25 / 35 @ 4577), p=2.2e-08, e=3.2x\n",
      "68. tRNA aminoacylation (25 / 45 @ 3705), p=3.8e-07, e=3.1x\n",
      "69. nuclear envelope organization (39 / 60 @ 4743), p=2.7e-10, e=3.1x\n",
      "70. cellular response to heat (55 / 90 @ 4475), p=9.2e-14, e=3.1x\n",
      "71. termination of RNA polymerase II transcription (30 / 45 @ 4497), p=5.1e-09, e=3.1x\n",
      "72. protein-DNA complex subunit organization (54 / 104 @ 4878), p=2.3e-08, e=3.0x\n",
      "73. DNA helicase activity (22 / 37 @ 4187), p=3.9e-06, e=3.0x\n",
      "74. G2/M transition of mitotic cell cycle (77 / 134 @ 4810), p=4.7e-15, e=3.0x\n",
      "75. chromatin remodeling (59 / 109 @ 4900), p=6.5e-10, e=2.9x\n",
      "76. modulation by virus of host process (29 / 50 @ 4068), p=8.4e-08, e=2.9x\n",
      "77. regulation of microtubule-based process (59 / 115 @ 4935), p=1.3e-08, e=2.9x\n",
      "78. chromatin assembly (37 / 81 @ 3993), p=1.7e-06, e=2.9x\n",
      "79. response to heat (64 / 108 @ 4582), p=1.7e-14, e=2.9x\n",
      "80. cytokinesis (29 / 74 @ 2723), p=5.0e-07, e=2.8x\n",
      "81. cell cycle DNA replication (19 / 27 @ 4911), p=7.0e-06, e=2.8x\n",
      "82. nucleosome organization (44 / 94 @ 4502), p=2.0e-06, e=2.8x\n",
      "83. RNA 3'-end processing (42 / 67 @ 4497), p=4.5e-11, e=2.8x\n",
      "84. mRNA 3'-end processing (36 / 57 @ 4497), p=1.0e-09, e=2.8x\n",
      "85. small nuclear ribonucleoprotein complex (22 / 36 @ 4372), p=4.6e-06, e=2.8x\n",
      "86. modulation by symbiont of host cellular process (29 / 53 @ 4068), p=4.5e-07, e=2.8x\n",
      "87. positive regulation of gene expression, epigenetic (29 / 50 @ 4765), p=2.7e-06, e=2.7x\n",
      "88. response to temperature stimulus (71 / 128 @ 4582), p=5.6e-14, e=2.7x\n",
      "89. tRNA metabolic process (76 / 152 @ 3820), p=3.4e-16, e=2.6x\n",
      "90. protein sumoylation (58 / 106 @ 4439), p=8.4e-12, e=2.6x\n",
      "91. cell cycle checkpoint (105 / 194 @ 4944), p=7.1e-17, e=2.6x\n",
      "92. G1/S transition of mitotic cell cycle (83 / 147 @ 4944), p=7.8e-15, e=2.6x\n",
      "93. ATP-dependent helicase activity (27 / 42 @ 4911), p=7.2e-07, e=2.6x\n",
      "94. modulation by virus of host morphology or physiology (31 / 59 @ 4068), p=5.5e-07, e=2.6x\n",
      "95. DNA geometric change (25 / 46 @ 4187), p=6.6e-06, e=2.6x\n",
      "96. tRNA processing (55 / 112 @ 3925), p=5.3e-11, e=2.6x\n",
      "97. telomere maintenance (38 / 70 @ 4685), p=3.3e-07, e=2.5x\n",
      "98. telomere organization (39 / 73 @ 4685), p=3.8e-07, e=2.5x\n",
      "99. ribonucleoprotein complex localization (45 / 77 @ 4914), p=4.6e-09, e=2.5x\n",
      "100. telomere maintenance via telomere lengthening (27 / 44 @ 4911), p=2.8e-06, e=2.5x\n",
      "101. mitotic cell cycle checkpoint (77 / 146 @ 4944), p=9.0e-12, e=2.5x\n",
      "102. mitochondrial translational termination (48 / 84 @ 4847), p=2.2e-09, e=2.5x\n",
      "103. ephrin receptor signaling pathway (41 / 91 @ 4303), p=4.8e-06, e=2.5x\n",
      "104. nuclear export (58 / 99 @ 4914), p=1.5e-11, e=2.5x\n",
      "105. dicarboxylic acid metabolic process (29 / 53 @ 4396), p=2.3e-06, e=2.5x\n",
      "106. DNA-templated transcription, termination (54 / 92 @ 4926), p=8.7e-11, e=2.5x\n",
      "107. RNA export from nucleus (44 / 74 @ 4914), p=3.4e-09, e=2.5x\n",
      "108. ribonucleoprotein complex export from nucleus (43 / 74 @ 4914), p=1.4e-08, e=2.5x\n",
      "109. PML body (31 / 62 @ 4093), p=2.4e-06, e=2.4x\n",
      "110. protein methyltransferase activity (30 / 57 @ 4272), p=2.3e-06, e=2.4x\n",
      "111. chromosome, telomeric region (58 / 117 @ 4935), p=8.0e-08, e=2.4x\n",
      "112. mitochondrial ribosome (29 / 55 @ 4323), p=4.5e-06, e=2.4x\n",
      "113. response to ionizing radiation (35 / 73 @ 4012), p=9.9e-07, e=2.4x\n",
      "114. mRNA export from nucleus (40 / 68 @ 4914), p=3.1e-08, e=2.4x\n",
      "115. cell division (61 / 121 @ 4543), p=5.3e-10, e=2.4x\n",
      "116. mitochondrial translational initiation (47 / 84 @ 4847), p=8.5e-09, e=2.4x\n",
      "117. mitochondrial translational elongation (47 / 84 @ 4847), p=8.5e-09, e=2.4x\n",
      "118. helicase activity (37 / 64 @ 4911), p=2.1e-07, e=2.4x\n",
      "119. mitochondrial translation (58 / 102 @ 4847), p=4.4e-11, e=2.4x\n",
      "120. anaphase-promoting complex-dependent proteasomal ubiquitin-dependent protein catabolic process (47 / 83 @ 4944), p=9.9e-09, e=2.4x\n",
      "121. catalytic step 2 spliceosome (42 / 80 @ 4372), p=3.1e-08, e=2.4x\n",
      "122. mRNA transport (40 / 69 @ 4914), p=5.3e-08, e=2.4x\n",
      "123. nucleus organization (50 / 93 @ 4743), p=7.0e-09, e=2.4x\n",
      "124. modification by symbiont of host morphology or physiology (32 / 67 @ 4068), p=4.9e-06, e=2.4x\n",
      "125. DNA integrity checkpoint (62 / 133 @ 4291), p=1.8e-09, e=2.4x\n",
      "126. methyltransferase activity (50 / 99 @ 4290), p=3.2e-09, e=2.3x\n",
      "127. tubulin binding (72 / 149 @ 4868), p=3.4e-09, e=2.3x\n",
      "128. methyltransferase complex (44 / 82 @ 4626), p=3.3e-08, e=2.3x\n",
      "129. regulation of translational initiation (34 / 59 @ 4933), p=8.8e-07, e=2.3x\n",
      "130. negative regulation of mitotic cell cycle (90 / 185 @ 4944), p=4.0e-11, e=2.3x\n",
      "131. S-adenosylmethionine-dependent methyltransferase activity (43 / 80 @ 4815), p=1.6e-07, e=2.3x\n",
      "132. transferase activity, transferring one-carbon groups (53 / 106 @ 4290), p=1.6e-09, e=2.3x\n",
      "133. RNA localization (54 / 99 @ 4914), p=3.1e-09, e=2.3x\n",
      "134. nucleocytoplasmic transport (83 / 169 @ 4497), p=7.8e-13, e=2.3x\n",
      "135. establishment of RNA localization (47 / 86 @ 4914), p=3.6e-08, e=2.3x\n",
      "136. RNA transport (46 / 84 @ 4914), p=4.8e-08, e=2.3x\n",
      "137. positive regulation of apoptotic signaling pathway (47 / 120 @ 3550), p=3.4e-07, e=2.2x\n",
      "138. DNA damage checkpoint (56 / 125 @ 4291), p=6.8e-08, e=2.2x\n",
      "139. regulation of ubiquitin-protein ligase activity involved in mitotic cell cycle (49 / 91 @ 4944), p=4.0e-08, e=2.2x\n",
      "140. Wnt signaling pathway (37 / 72 @ 4855), p=6.7e-06, e=2.2x\n",
      "141. response to UV (38 / 99 @ 3412), p=3.8e-06, e=2.2x\n",
      "142. nuclear transport (83 / 172 @ 4497), p=2.6e-12, e=2.2x\n",
      "143. response to topologically incorrect protein (56 / 129 @ 3887), p=7.2e-09, e=2.2x\n",
      "144. endoplasmic reticulum unfolded protein response (40 / 92 @ 3887), p=1.4e-06, e=2.2x\n",
      "145. response to unfolded protein (51 / 119 @ 3887), p=6.4e-08, e=2.2x\n",
      "146. negative regulation of mitotic cell cycle phase transition (68 / 138 @ 4944), p=7.3e-09, e=2.2x\n",
      "147. regulation of telomere maintenance (33 / 63 @ 4685), p=6.4e-06, e=2.2x\n",
      "148. DNA recombination (82 / 174 @ 4542), p=2.9e-11, e=2.2x\n",
      "149. double-strand break repair (72 / 167 @ 4059), p=3.9e-10, e=2.2x\n",
      "150. negative regulation of protein ubiquitination (68 / 125 @ 4944), p=2.9e-11, e=2.2x\n",
      "151. negative regulation of cellular protein catabolic process (37 / 68 @ 4934), p=1.8e-06, e=2.2x\n",
      "152. negative regulation of chromosome organization (50 / 94 @ 4934), p=4.4e-08, e=2.2x\n",
      "153. negative regulation of proteolysis involved in cellular protein catabolic process (34 / 63 @ 4934), p=6.4e-06, e=2.2x\n",
      "154. negative regulation of gene expression, epigenetic (39 / 76 @ 4935), p=5.7e-06, e=2.2x\n",
      "155. negative regulation of ubiquitin-protein transferase activity (47 / 87 @ 4944), p=7.1e-08, e=2.2x\n",
      "156. double-strand break repair via homologous recombination (53 / 117 @ 4366), p=1.9e-07, e=2.2x\n",
      "157. DNA-templated transcription, elongation (50 / 96 @ 4926), p=1.0e-07, e=2.2x\n",
      "158. spliceosomal complex (56 / 118 @ 4372), p=1.1e-08, e=2.1x\n",
      "159. cellular response to unfolded protein (40 / 95 @ 3887), p=3.6e-06, e=2.1x\n",
      "160. negative regulation of ligase activity (47 / 88 @ 4944), p=1.1e-07, e=2.1x\n",
      "161. negative regulation of cell cycle phase transition (70 / 146 @ 4944), p=1.7e-08, e=2.1x\n",
      "162. cellular response to topologically incorrect protein (43 / 103 @ 3887), p=1.9e-06, e=2.1x\n",
      "163. negative regulation of ubiquitin-protein ligase activity involved in mitotic cell cycle (43 / 81 @ 4944), p=5.3e-07, e=2.1x\n",
      "164. negative regulation of protein modification by small protein conjugation or removal (69 / 131 @ 4944), p=1.4e-10, e=2.1x\n",
      "165. protein import (44 / 93 @ 4575), p=2.2e-06, e=2.1x\n",
      "166. interaction with host (43 / 101 @ 4068), p=3.4e-06, e=2.1x\n",
      "167. nuclear body (98 / 190 @ 4937), p=4.6e-14, e=2.1x\n",
      "168. transforming growth factor beta receptor signaling pathway (50 / 117 @ 4105), p=5.4e-07, e=2.1x\n",
      "169. chromatin assembly or disassembly (46 / 100 @ 4502), p=2.1e-06, e=2.1x\n",
      "170. regulation of DNA replication (63 / 132 @ 4685), p=1.5e-08, e=2.1x\n",
      "171. nuclear chromosome, telomeric region (50 / 103 @ 4914), p=1.4e-06, e=2.1x\n",
      "172. nucleobase-containing compound transport (53 / 106 @ 4914), p=2.0e-07, e=2.1x\n",
      "173. positive regulation of viral process (53 / 105 @ 4818), p=6.7e-08, e=2.1x\n",
      "174. modification of morphology or physiology of other organism involved in symbiotic interaction (43 / 101 @ 4068), p=3.4e-06, e=2.1x\n",
      "175. regulation of protein ubiquitination involved in ubiquitin-dependent protein catabolic process (46 / 89 @ 4944), p=5.3e-07, e=2.1x\n",
      "176. regulation of G1/S transition of mitotic cell cycle (53 / 117 @ 4519), p=5.9e-07, e=2.1x\n",
      "177. response to transforming growth factor beta (53 / 129 @ 3981), p=3.7e-07, e=2.1x\n",
      "178. positive regulation of viral life cycle (49 / 99 @ 4818), p=5.0e-07, e=2.1x\n",
      "179. positive regulation of protein ubiquitination involved in ubiquitin-dependent protein catabolic process (42 / 82 @ 4944), p=2.5e-06, e=2.0x\n",
      "180. negative regulation of protein catabolic process (52 / 102 @ 4935), p=1.4e-07, e=2.0x\n",
      "181. cellular response to transforming growth factor beta stimulus (52 / 127 @ 3981), p=5.7e-07, e=2.0x\n",
      "182. modification of morphology or physiology of other organism (43 / 103 @ 4068), p=6.4e-06, e=2.0x\n",
      "183. regulation of ligase activity (60 / 119 @ 4944), p=2.3e-08, e=2.0x\n",
      "184. ribonucleoprotein complex biogenesis (82 / 174 @ 4758), p=3.3e-10, e=2.0x\n",
      "185. macromolecule methylation (59 / 124 @ 4815), p=1.5e-07, e=2.0x\n",
      "186. protein polyubiquitination (87 / 174 @ 4944), p=1.4e-11, e=2.0x\n",
      "187. nuclear membrane (74 / 163 @ 4677), p=9.3e-09, e=2.0x\n",
      "188. regulation of ubiquitin-protein transferase activity (59 / 119 @ 4944), p=6.5e-08, e=2.0x\n",
      "189. regulation of proteasomal ubiquitin-dependent protein catabolic process (61 / 124 @ 4935), p=5.1e-08, e=2.0x\n",
      "190. positive regulation of protein ubiquitination (72 / 147 @ 4944), p=3.4e-09, e=2.0x\n",
      "191. methylation (64 / 139 @ 4815), p=1.8e-07, e=2.0x\n",
      "192. positive regulation of ligase activity (44 / 90 @ 4944), p=6.5e-06, e=2.0x\n",
      "193. regulation of cell cycle G1/S phase transition (54 / 126 @ 4519), p=3.6e-06, e=1.9x\n",
      "194. ribonucleoprotein complex assembly (52 / 112 @ 4758), p=1.6e-06, e=1.9x\n",
      "195. gene silencing (50 / 125 @ 4118), p=5.7e-06, e=1.9x\n",
      "196. positive regulation of proteolysis involved in cellular protein catabolic process (66 / 137 @ 4944), p=3.8e-08, e=1.9x\n",
      "197. positive regulation of cellular protein catabolic process (71 / 148 @ 4944), p=1.3e-08, e=1.9x\n",
      "198. regulation of RNA stability (58 / 125 @ 4944), p=1.4e-06, e=1.9x\n",
      "199. positive regulation of protein modification by small protein conjugation or removal (75 / 157 @ 4944), p=6.0e-09, e=1.9x\n",
      "200. protein autophosphorylation (61 / 140 @ 4813), p=3.5e-06, e=1.9x\n",
      "201. regulation of proteasomal protein catabolic process (67 / 143 @ 4935), p=1.1e-07, e=1.9x\n",
      "202. microtubule organizing center part (53 / 116 @ 4935), p=7.1e-06, e=1.9x\n",
      "203. regulation of mRNA stability (56 / 123 @ 4944), p=4.4e-06, e=1.9x\n",
      "204. ribonucleoprotein complex subunit organization (54 / 121 @ 4758), p=4.1e-06, e=1.9x\n",
      "205. ubiquitin ligase complex (78 / 171 @ 4942), p=3.5e-08, e=1.8x\n",
      "206. response to endoplasmic reticulum stress (81 / 182 @ 4905), p=4.7e-08, e=1.8x\n",
      "207. endosomal transport (88 / 193 @ 4944), p=4.1e-09, e=1.8x\n",
      "208. protein folding (63 / 140 @ 4905), p=1.2e-06, e=1.8x\n",
      "209. negative regulation of cellular catabolic process (61 / 135 @ 4935), p=1.9e-06, e=1.8x\n",
      "210. mitochondrial transport (63 / 150 @ 4616), p=2.3e-06, e=1.8x\n",
      "211. regulation of gene expression, epigenetic (84 / 196 @ 4935), p=2.6e-07, e=1.8x\n",
      "212. ATPase activity, coupled (64 / 147 @ 4911), p=3.9e-06, e=1.8x\n",
      "213. vesicle organization (72 / 169 @ 4788), p=8.3e-07, e=1.8x\n",
      "214. cellular protein complex disassembly (70 / 187 @ 4305), p=5.1e-06, e=1.7x\n",
      "215. negative regulation of catabolic process (73 / 171 @ 4935), p=2.1e-06, e=1.7x\n",
      "216. cell leading edge (77 / 197 @ 4684), p=6.4e-06, e=1.7x\n"
     ]
    }
   ],
   "source": [
    "from genometools.enrichment import GeneSetEnrichmentAnalysis\n",
    "\n",
    "# The significance threshold will be adjusted for multiple testing using the Bonferroni method\n",
    "pval_thresh = 0.05\n",
    "\n",
    "diff = matrix_dead.median(axis=1) - matrix_survive.median(axis=1)\n",
    "diff.sort_values(ascending=False, inplace=True)\n",
    "\n",
    "enrichment = GeneSetEnrichmentAnalysis(genome, gene_set_coll)\n",
    "enriched = enrichment.get_rank_based_enrichment(diff.index, pval_thresh=pval_thresh)\n",
    "\n",
    "# sort significantly enriched GO terms by their E-score (higher E-score = stronger enrichment)\n",
    "enriched = sorted(enriched, key=lambda x:-x.escore)\n",
    "\n",
    "# print nicely formatted list of enriched GO terms\n",
    "for i, enr in enumerate(enriched):\n",
    "    print('%02d. %s' %(i, enr.get_pretty_format()))"
   ]
  },
  {
   "cell_type": "code",
   "execution_count": 8,
   "metadata": {
    "collapsed": false
   },
   "outputs": [
    {
     "name": "stdout",
     "output_type": "stream",
     "text": [
      "Gene set: <GeneSet \"condensed chromosome outer kinetochore\" (id=GO:0000940, source=\"GO\", collection=\"CC\", size=12\n",
      "Number of genes annotated with GO term above the mHG cutoff: 12\n",
      "Gene names: ['PLK1', 'BUB1B', 'CENPF', 'SKA3', 'BUB1', 'CCNB1', 'CENPE', 'SPDL1', 'NUP133', 'NDC80', 'SKA2', 'SKA1']\n",
      "Gene indices in ranked list: [  20  101  191  306  318  319 1222 1333 1406 2319 3753 3907]\n"
     ]
    }
   ],
   "source": [
    "# examine the most strongly enriched GO term\n",
    "enr = enriched[0]\n",
    "\n",
    "print('Gene set:', enr.gene_set)\n",
    "\n",
    "print('Number of genes annotated with GO term above the mHG cutoff:', enr.k)\n",
    "\n",
    "print('Gene names:', enr.genes_above_cutoff)\n",
    "\n",
    "# print the indices (0-based ranks) of the genes above the cutoff\n",
    "print('Gene indices in ranked list:', enr.indices[:enr.k])"
   ]
  },
  {
   "cell_type": "markdown",
   "metadata": {},
   "source": [
    "### Copyright and License\n",
    "\n",
    "Copyright (c) 2016 Florian Wagner.\n",
    "\n",
    "This work is licensed under a [Creative Commons Attribution-NonCommercial-ShareAlike 4.0 International License](http://creativecommons.org/licenses/by-nc-sa/4.0/)."
   ]
  }
 ],
 "metadata": {
  "kernelspec": {
   "display_name": "Python 3",
   "language": "python",
   "name": "python3"
  },
  "language_info": {
   "codemirror_mode": {
    "name": "ipython",
    "version": 3
   },
   "file_extension": ".py",
   "mimetype": "text/x-python",
   "name": "python",
   "nbconvert_exporter": "python",
   "pygments_lexer": "ipython3",
   "version": "3.5.2"
  }
 },
 "nbformat": 4,
 "nbformat_minor": 0
}
