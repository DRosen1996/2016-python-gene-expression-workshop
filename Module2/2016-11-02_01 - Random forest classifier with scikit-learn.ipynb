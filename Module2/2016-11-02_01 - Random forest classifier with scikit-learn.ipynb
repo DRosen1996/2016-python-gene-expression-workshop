{
 "cells": [
  {
   "cell_type": "markdown",
   "metadata": {},
   "source": [
    "### Read expression data"
   ]
  },
  {
   "cell_type": "code",
   "execution_count": 1,
   "metadata": {
    "collapsed": false
   },
   "outputs": [
    {
     "name": "stdout",
     "output_type": "stream",
     "text": [
      "[2016-11-03 14:04:45] INFO: Selected the 2000 most variable genes (excluded 89.9% of genes, representing 58.5% of total variance).\n",
      "(2000, 153) (2000, 123) (2000, 30)\n"
     ]
    }
   ],
   "source": [
    "import os\n",
    "\n",
    "import pandas as pd\n",
    "\n",
    "from genometools.expression import ExpMatrix\n",
    "\n",
    "cls1_expression_file = os.path.join('..', 'data', 'brca_expression_5yr_survive.tsv')\n",
    "cls2_expression_file = os.path.join('..', 'data', 'brca_expression_5yr_dead.tsv')\n",
    "\n",
    "num_variable = 2000\n",
    "\n",
    "matrix1 = ExpMatrix.read_tsv(cls1_expression_file)\n",
    "matrix2 = ExpMatrix.read_tsv(cls2_expression_file)\n",
    "\n",
    "matrix = pd.concat([matrix1, matrix2], axis=1)\n",
    "\n",
    "# filter 2,000 most variable genes\n",
    "matrix = matrix.filter_variance(num_variable)\n",
    "matrix1 = matrix1.loc[matrix.genes]\n",
    "matrix2 = matrix2.loc[matrix.genes]\n",
    "print(matrix.shape, matrix1.shape, matrix2.shape)"
   ]
  },
  {
   "cell_type": "markdown",
   "metadata": {},
   "source": [
    "### Split the data into training and test set"
   ]
  },
  {
   "cell_type": "code",
   "execution_count": 2,
   "metadata": {
    "collapsed": false
   },
   "outputs": [
    {
     "name": "stdout",
     "output_type": "stream",
     "text": [
      "(2000, 82) (2000, 20) (2000, 102) (2000, 51)\n"
     ]
    }
   ],
   "source": [
    "# for the test set, we're selecting five samples from each group at random\n",
    "import pandas as pd\n",
    "import numpy as np\n",
    "\n",
    "# set seed for random number generator\n",
    "seed = 0\n",
    "np.random.seed(seed)\n",
    "\n",
    "sel1 = np.random.choice(matrix1.n, size=41, replace=False)\n",
    "sel2 = np.random.choice(matrix2.n, size=10, replace=False)\n",
    "\n",
    "test = pd.concat([matrix1.iloc[:, sel1], matrix2.iloc[:, sel2]], axis=1)\n",
    "\n",
    "# drop the samples from the tables\n",
    "matrix1.drop(matrix1.columns[sel1], axis=1, inplace=True)\n",
    "matrix2.drop(matrix2.columns[sel2], axis=1, inplace=True)\n",
    "matrix = pd.concat([matrix1, matrix2], axis=1)\n",
    "print(matrix1.shape, matrix2.shape, matrix.shape, test.shape)"
   ]
  },
  {
   "cell_type": "code",
   "execution_count": 3,
   "metadata": {
    "collapsed": false
   },
   "outputs": [
    {
     "ename": "NameError",
     "evalue": "name 'RandomForestClassifier' is not defined",
     "output_type": "error",
     "traceback": [
      "\u001b[0;31m---------------------------------------------------------------------------\u001b[0m",
      "\u001b[0;31mNameError\u001b[0m                                 Traceback (most recent call last)",
      "\u001b[0;32m<ipython-input-3-ceacf87c4a9f>\u001b[0m in \u001b[0;36m<module>\u001b[0;34m()\u001b[0m\n\u001b[1;32m      5\u001b[0m \u001b[0mseed\u001b[0m \u001b[0;34m=\u001b[0m \u001b[0;36m0\u001b[0m\u001b[0;34m\u001b[0m\u001b[0m\n\u001b[1;32m      6\u001b[0m \u001b[0;34m\u001b[0m\u001b[0m\n\u001b[0;32m----> 7\u001b[0;31m model = RandomForestClassifier(n_estimators=num_estimators, class_weight='balanced_subsample',\n\u001b[0m\u001b[1;32m      8\u001b[0m                               random_state=seed, oob_score=True)\n\u001b[1;32m      9\u001b[0m \u001b[0;34m\u001b[0m\u001b[0m\n",
      "\u001b[0;31mNameError\u001b[0m: name 'RandomForestClassifier' is not defined"
     ]
    }
   ],
   "source": [
    "# Running random forest on the training data\n",
    "\n",
    "num_estimators = 1000\n",
    "\n",
    "seed = 0\n",
    "\n",
    "model = RandomForestClassifier(n_estimators=num_estimators, class_weight='balanced_subsample',\n",
    "                              random_state=seed, oob_score=True)\n",
    "\n",
    "y = np.r_[matrix1.shape[1]*[0], matrix2.shape[1]*[1]]\n",
    "\n",
    "print(y.size, y)\n",
    "print(matrix.X.T.shape)\n",
    "\n",
    "model.fit(matrix.X.T, y)\n",
    "\n",
    "#print(model.oob_score_)"
   ]
  },
  {
   "cell_type": "code",
   "execution_count": null,
   "metadata": {
    "collapsed": false
   },
   "outputs": [],
   "source": [
    "# predict and plot accuracy\n",
    "import numpy as np\n",
    "\n",
    "print(model.predict(test.X.T))\n",
    "\n",
    "y_pred = model.predict(test.X.T)\n",
    "\n",
    "print(y_pred)"
   ]
  },
  {
   "cell_type": "markdown",
   "metadata": {},
   "source": [
    "### Generating the splits"
   ]
  },
  {
   "cell_type": "code",
   "execution_count": null,
   "metadata": {
    "collapsed": true
   },
   "outputs": [],
   "source": [
    "from sklearn.model_selection import StratifiedKFold\n",
    "\n",
    "skf = StratifiedKFold(n_splits=5)\n",
    "\n",
    "for train_index, test_index in skf.split(matrix.X.T, y):\n",
    "    #print(\"TRAIN:\", train_index, \"TEST:\", test_index)\n",
    "    \n",
    "    #X_train, X_test = X[train_index], X[test_index]\n",
    "    #y_train, y_test = y[train_index], y[test_index]"
   ]
  },
  {
   "cell_type": "code",
   "execution_count": null,
   "metadata": {
    "collapsed": false
   },
   "outputs": [],
   "source": [
    "from sklearn.ensemble import RandomForestClassifier\n",
    "import numpy as np\n",
    "\n",
    "num_estimators = 1000\n",
    "\n",
    "seed = 0\n",
    "\n",
    "model = RandomForestClassifier(n_estimators=num_estimators, class_weight='balanced_subsample',\n",
    "                              random_state=seed, oob_score=True)\n",
    "\n",
    "y = np.r_[matrix1.shape[1]*[0], matrix2.shape[1]*[1]]\n",
    "\n",
    "print(y)\n",
    "\n",
    "model.fit(matrix.X.T, y)"
   ]
  },
  {
   "cell_type": "code",
   "execution_count": null,
   "metadata": {
    "collapsed": false
   },
   "outputs": [],
   "source": [
    "# the model accuracy\n",
    "print(model.oob_score_)"
   ]
  },
  {
   "cell_type": "code",
   "execution_count": null,
   "metadata": {
    "collapsed": false,
    "scrolled": true
   },
   "outputs": [],
   "source": [
    "print(matrix1.shape[1]/float(matrix.shape[1]))"
   ]
  }
 ],
 "metadata": {
  "kernelspec": {
   "display_name": "Python 3",
   "language": "python",
   "name": "python3"
  },
  "language_info": {
   "codemirror_mode": {
    "name": "ipython",
    "version": 3
   },
   "file_extension": ".py",
   "mimetype": "text/x-python",
   "name": "python",
   "nbconvert_exporter": "python",
   "pygments_lexer": "ipython3",
   "version": "3.5.2"
  }
 },
 "nbformat": 4,
 "nbformat_minor": 0
}
